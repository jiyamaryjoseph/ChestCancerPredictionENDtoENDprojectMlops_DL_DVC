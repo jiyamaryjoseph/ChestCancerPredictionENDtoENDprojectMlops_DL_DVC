{
 "cells": [
  {
   "cell_type": "code",
   "execution_count": 1,
   "metadata": {},
   "outputs": [],
   "source": [
    "import gdown"
   ]
  },
  {
   "cell_type": "code",
   "execution_count": 2,
   "metadata": {},
   "outputs": [],
   "source": [
    "url=\"https://drive.google.com/file/d/1Rh9Pbjw2vjR79LAlOvNOZiuns3mcJfTA/view?usp=drive_link\""
   ]
  },
  {
   "cell_type": "code",
   "execution_count": 5,
   "metadata": {},
   "outputs": [],
   "source": [
    "file_id=url.split(\"/\")[-2]"
   ]
  },
  {
   "cell_type": "code",
   "execution_count": 6,
   "metadata": {},
   "outputs": [
    {
     "name": "stderr",
     "output_type": "stream",
     "text": [
      "Downloading...\n",
      "From (original): https://drive.google.com/uc?/export=download&id=1Rh9Pbjw2vjR79LAlOvNOZiuns3mcJfTA\n",
      "From (redirected): https://drive.google.com/uc?%2Fexport=download&id=1Rh9Pbjw2vjR79LAlOvNOZiuns3mcJfTA&confirm=t&uuid=5c766cb0-78ba-4967-a627-328366327e7e\n",
      "To: d:\\EDrivebackup\\brocamp\\DataScienceProjects\\ENDtoENDprojectMlopstool_DL\\Chest-CT-Scan-data.zip\n",
      "100%|██████████| 124M/124M [00:31<00:00, 3.92MB/s] \n"
     ]
    },
    {
     "data": {
      "text/plain": [
       "'Chest-CT-Scan-data.zip'"
      ]
     },
     "execution_count": 6,
     "metadata": {},
     "output_type": "execute_result"
    }
   ],
   "source": [
    "prefix = 'https://drive.google.com/uc?/export=download&id='\n",
    "gdown.download(prefix+file_id, \"Chest-CT-Scan-data.zip\")"
   ]
  }
 ],
 "metadata": {
  "kernelspec": {
   "display_name": "Python 3",
   "language": "python",
   "name": "python3"
  },
  "language_info": {
   "codemirror_mode": {
    "name": "ipython",
    "version": 3
   },
   "file_extension": ".py",
   "mimetype": "text/x-python",
   "name": "python",
   "nbconvert_exporter": "python",
   "pygments_lexer": "ipython3",
   "version": "3.8.19"
  }
 },
 "nbformat": 4,
 "nbformat_minor": 2
}
